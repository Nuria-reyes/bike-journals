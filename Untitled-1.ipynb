{
 "cells": [
  {
   "cell_type": "code",
   "execution_count": 1,
   "metadata": {},
   "outputs": [],
   "source": [
    "import pandas as pd"
   ]
  },
  {
   "cell_type": "code",
   "execution_count": 2,
   "metadata": {},
   "outputs": [
    {
     "name": "stdout",
     "output_type": "stream",
     "text": [
      "Requirement already satisfied: streamlit in c:\\users\\estre\\anaconda3\\lib\\site-packages (1.30.0)\n",
      "Requirement already satisfied: altair<6,>=4.0 in c:\\users\\estre\\anaconda3\\lib\\site-packages (from streamlit) (5.0.1)\n",
      "Requirement already satisfied: blinker<2,>=1.0.0 in c:\\users\\estre\\anaconda3\\lib\\site-packages (from streamlit) (1.6.2)\n",
      "Requirement already satisfied: cachetools<6,>=4.0 in c:\\users\\estre\\anaconda3\\lib\\site-packages (from streamlit) (4.2.2)\n",
      "Requirement already satisfied: click<9,>=7.0 in c:\\users\\estre\\anaconda3\\lib\\site-packages (from streamlit) (8.1.7)\n",
      "Requirement already satisfied: importlib-metadata<8,>=1.4 in c:\\users\\estre\\anaconda3\\lib\\site-packages (from streamlit) (7.0.1)\n",
      "Requirement already satisfied: numpy<2,>=1.19.3 in c:\\users\\estre\\anaconda3\\lib\\site-packages (from streamlit) (1.24.3)\n",
      "Requirement already satisfied: packaging<24,>=16.8 in c:\\users\\estre\\appdata\\roaming\\python\\python311\\site-packages (from streamlit) (23.2)\n",
      "Requirement already satisfied: pandas<3,>=1.3.0 in c:\\users\\estre\\anaconda3\\lib\\site-packages (from streamlit) (2.1.4)\n",
      "Requirement already satisfied: pillow<11,>=7.1.0 in c:\\users\\estre\\anaconda3\\lib\\site-packages (from streamlit) (10.2.0)\n",
      "Requirement already satisfied: protobuf<5,>=3.20 in c:\\users\\estre\\anaconda3\\lib\\site-packages (from streamlit) (3.20.3)\n",
      "Requirement already satisfied: pyarrow>=6.0 in c:\\users\\estre\\anaconda3\\lib\\site-packages (from streamlit) (14.0.2)\n",
      "Requirement already satisfied: python-dateutil<3,>=2.7.3 in c:\\users\\estre\\appdata\\roaming\\python\\python311\\site-packages (from streamlit) (2.8.2)\n",
      "Requirement already satisfied: requests<3,>=2.27 in c:\\users\\estre\\anaconda3\\lib\\site-packages (from streamlit) (2.31.0)\n",
      "Requirement already satisfied: rich<14,>=10.14.0 in c:\\users\\estre\\anaconda3\\lib\\site-packages (from streamlit) (13.3.5)\n",
      "Requirement already satisfied: tenacity<9,>=8.1.0 in c:\\users\\estre\\anaconda3\\lib\\site-packages (from streamlit) (8.2.2)\n",
      "Requirement already satisfied: toml<2,>=0.10.1 in c:\\users\\estre\\anaconda3\\lib\\site-packages (from streamlit) (0.10.2)\n",
      "Requirement already satisfied: typing-extensions<5,>=4.3.0 in c:\\users\\estre\\anaconda3\\lib\\site-packages (from streamlit) (4.9.0)\n",
      "Requirement already satisfied: tzlocal<6,>=1.1 in c:\\users\\estre\\anaconda3\\lib\\site-packages (from streamlit) (2.1)\n",
      "Requirement already satisfied: validators<1,>=0.2 in c:\\users\\estre\\anaconda3\\lib\\site-packages (from streamlit) (0.18.2)\n",
      "Requirement already satisfied: gitpython!=3.1.19,<4,>=3.0.7 in c:\\users\\estre\\anaconda3\\lib\\site-packages (from streamlit) (3.1.37)\n",
      "Requirement already satisfied: pydeck<1,>=0.8.0b4 in c:\\users\\estre\\anaconda3\\lib\\site-packages (from streamlit) (0.8.0)\n",
      "Requirement already satisfied: tornado<7,>=6.0.3 in c:\\users\\estre\\appdata\\roaming\\python\\python311\\site-packages (from streamlit) (6.4)\n",
      "Requirement already satisfied: watchdog>=2.1.5 in c:\\users\\estre\\anaconda3\\lib\\site-packages (from streamlit) (2.1.6)\n",
      "Requirement already satisfied: jinja2 in c:\\users\\estre\\anaconda3\\lib\\site-packages (from altair<6,>=4.0->streamlit) (3.1.3)\n",
      "Requirement already satisfied: jsonschema>=3.0 in c:\\users\\estre\\anaconda3\\lib\\site-packages (from altair<6,>=4.0->streamlit) (4.19.2)\n",
      "Requirement already satisfied: toolz in c:\\users\\estre\\anaconda3\\lib\\site-packages (from altair<6,>=4.0->streamlit) (0.12.0)\n",
      "Requirement already satisfied: colorama in c:\\users\\estre\\appdata\\roaming\\python\\python311\\site-packages (from click<9,>=7.0->streamlit) (0.4.6)\n",
      "Requirement already satisfied: gitdb<5,>=4.0.1 in c:\\users\\estre\\anaconda3\\lib\\site-packages (from gitpython!=3.1.19,<4,>=3.0.7->streamlit) (4.0.7)\n",
      "Requirement already satisfied: zipp>=0.5 in c:\\users\\estre\\anaconda3\\lib\\site-packages (from importlib-metadata<8,>=1.4->streamlit) (3.17.0)\n",
      "Requirement already satisfied: pytz>=2020.1 in c:\\users\\estre\\anaconda3\\lib\\site-packages (from pandas<3,>=1.3.0->streamlit) (2023.3.post1)\n",
      "Requirement already satisfied: tzdata>=2022.1 in c:\\users\\estre\\anaconda3\\lib\\site-packages (from pandas<3,>=1.3.0->streamlit) (2023.3)\n",
      "Requirement already satisfied: six>=1.5 in c:\\users\\estre\\appdata\\roaming\\python\\python311\\site-packages (from python-dateutil<3,>=2.7.3->streamlit) (1.16.0)\n",
      "Requirement already satisfied: charset-normalizer<4,>=2 in c:\\users\\estre\\anaconda3\\lib\\site-packages (from requests<3,>=2.27->streamlit) (2.0.4)\n",
      "Requirement already satisfied: idna<4,>=2.5 in c:\\users\\estre\\anaconda3\\lib\\site-packages (from requests<3,>=2.27->streamlit) (3.4)\n",
      "Requirement already satisfied: urllib3<3,>=1.21.1 in c:\\users\\estre\\anaconda3\\lib\\site-packages (from requests<3,>=2.27->streamlit) (2.0.7)\n",
      "Requirement already satisfied: certifi>=2017.4.17 in c:\\users\\estre\\anaconda3\\lib\\site-packages (from requests<3,>=2.27->streamlit) (2024.8.30)\n",
      "Requirement already satisfied: markdown-it-py<3.0.0,>=2.2.0 in c:\\users\\estre\\anaconda3\\lib\\site-packages (from rich<14,>=10.14.0->streamlit) (2.2.0)\n",
      "Requirement already satisfied: pygments<3.0.0,>=2.13.0 in c:\\users\\estre\\appdata\\roaming\\python\\python311\\site-packages (from rich<14,>=10.14.0->streamlit) (2.17.2)\n",
      "Requirement already satisfied: decorator>=3.4.0 in c:\\users\\estre\\appdata\\roaming\\python\\python311\\site-packages (from validators<1,>=0.2->streamlit) (5.1.1)\n",
      "Requirement already satisfied: smmap<5,>=3.0.1 in c:\\users\\estre\\anaconda3\\lib\\site-packages (from gitdb<5,>=4.0.1->gitpython!=3.1.19,<4,>=3.0.7->streamlit) (4.0.0)\n",
      "Requirement already satisfied: MarkupSafe>=2.0 in c:\\users\\estre\\anaconda3\\lib\\site-packages (from jinja2->altair<6,>=4.0->streamlit) (2.1.3)\n",
      "Requirement already satisfied: attrs>=22.2.0 in c:\\users\\estre\\anaconda3\\lib\\site-packages (from jsonschema>=3.0->altair<6,>=4.0->streamlit) (23.1.0)\n",
      "Requirement already satisfied: jsonschema-specifications>=2023.03.6 in c:\\users\\estre\\anaconda3\\lib\\site-packages (from jsonschema>=3.0->altair<6,>=4.0->streamlit) (2023.7.1)\n",
      "Requirement already satisfied: referencing>=0.28.4 in c:\\users\\estre\\anaconda3\\lib\\site-packages (from jsonschema>=3.0->altair<6,>=4.0->streamlit) (0.30.2)\n",
      "Requirement already satisfied: rpds-py>=0.7.1 in c:\\users\\estre\\anaconda3\\lib\\site-packages (from jsonschema>=3.0->altair<6,>=4.0->streamlit) (0.10.6)\n",
      "Requirement already satisfied: mdurl~=0.1 in c:\\users\\estre\\anaconda3\\lib\\site-packages (from markdown-it-py<3.0.0,>=2.2.0->rich<14,>=10.14.0->streamlit) (0.1.0)\n"
     ]
    }
   ],
   "source": [
    "!pip install streamlit"
   ]
  },
  {
   "cell_type": "code",
   "execution_count": 9,
   "metadata": {},
   "outputs": [],
   "source": [
    "import streamlit as st"
   ]
  },
  {
   "cell_type": "code",
   "execution_count": 16,
   "metadata": {},
   "outputs": [],
   "source": [
    "station = pd.read_csv('data_stations.txt', names=['id', 'station', 'municipality', 'lat', 'lng'])"
   ]
  },
  {
   "cell_type": "code",
   "execution_count": null,
   "metadata": {},
   "outputs": [
    {
     "name": "stderr",
     "output_type": "stream",
     "text": [
      "C:\\Users\\estre\\AppData\\Local\\Temp\\ipykernel_12304\\597698411.py:1: DtypeWarning: Columns (11) have mixed types. Specify dtype option on import or set low_memory=False.\n",
      "  trip = pd.read_csv('data_trips.txt', names = ['id', 'duration', 'start_date', 'start_station', 'end_date', 'end_station', 'bike_number', 'sub_type', 'zip_code', 'birth_date', 'gender', 'extra_col1', 'extra_col2', 'extra_col3'], dtype={'id': 'Int64', 'duration': 'Int64', 'start_station': 'Int64', 'end_station': 'Int64', 'birth_date': 'Int64', 'bike_number': str, 'sub_type':str, 'zip_code':str, 'gender':str})\n"
     ]
    }
   ],
   "source": [
    "trip = pd.read_csv('data_trips.txt', \n",
    "                    names = ['id', 'duration', 'start_date', 'start_station', 'end_date', 'end_station', 'bike_number', \n",
    "                            'sub_type', 'zip_code', 'birth_date', 'gender', 'extra_col1', 'extra_col2', 'extra_col3'], \n",
    "                    dtype={'id': 'Int64', 'duration': 'Int64', 'start_station': 'Int64', 'end_station': 'Int64', 'birth_date': 'Int64', \n",
    "                           'bike_number': str, 'sub_type':str, 'zip_code':str, 'gender':str})"
   ]
  },
  {
   "cell_type": "code",
   "execution_count": 18,
   "metadata": {},
   "outputs": [],
   "source": [
    "trip['start_date'] = pd.to_datetime(trip['start_date'])"
   ]
  },
  {
   "cell_type": "code",
   "execution_count": 19,
   "metadata": {},
   "outputs": [],
   "source": [
    "trip['end_date'] = pd.to_datetime(trip['end_date'])"
   ]
  },
  {
   "cell_type": "code",
   "execution_count": 28,
   "metadata": {},
   "outputs": [
    {
     "data": {
      "text/plain": [
       "array([ 99.,  40.,  47.,  22.,  45.,  36.,  44.,  10.,  20.,  42.,  38.,\n",
       "        25.,  48.,  31.,  16.,  49.,  46.,  14.,  39.,   3.,  41.,  43.,\n",
       "        34.,  35.,   5.,  32.,  33.,  13.,  24.,  27.,   9.,  21.,   6.,\n",
       "        12.,  30.,   8.,  15.,  26.,  17.,  18.,  11.,  52.,  37.,  50.,\n",
       "        53.,  51.,  nan,  55.,  57., 100.,  29.,   4.,  59.,  54.,  60.,\n",
       "         7.,  58., 103.,  62.,  63.,  64.,  65.,  73.,  76.,  74.,  75.,\n",
       "        70.,  68.,  78.,  79.,  69.,  77.,  67.,  81.,  66.,  82.,  80.,\n",
       "        83.,  19.,  84.,  85.,  71.,  72.,  86.,  91.,  88.,  90.,  87.,\n",
       "        89.,  92.,  93.,  98.,  97.,  96.,  94.,  95., 110., 102., 112.,\n",
       "       111., 115., 129., 126., 139., 138., 141., 140., 133., 131., 128.,\n",
       "       105., 132., 114., 130., 127., 137., 135., 134., 143., 144., 142.,\n",
       "       136., 116., 101., 123., 121., 122., 106., 120., 117., 118., 107.,\n",
       "       108., 109., 145., 125., 124., 119.])"
      ]
     },
     "execution_count": 28,
     "metadata": {},
     "output_type": "execute_result"
    }
   ],
   "source": [
    "trip['end_station'].unique()"
   ]
  },
  {
   "cell_type": "code",
   "execution_count": 29,
   "metadata": {},
   "outputs": [
    {
     "data": {
      "text/plain": [
       "array([\"'B00468'\", \"'B00554'\", \"'B00456'\", ..., \"'B00630'\", \"'B00624'\",\n",
       "       \"'B01491'\"], dtype=object)"
      ]
     },
     "execution_count": 29,
     "metadata": {},
     "output_type": "execute_result"
    }
   ],
   "source": [
    "trip['bike_number'].unique()"
   ]
  },
  {
   "cell_type": "code",
   "execution_count": 30,
   "metadata": {},
   "outputs": [
    {
     "data": {
      "text/plain": [
       "array([\"'Registered'\", \"'Casual'\"], dtype=object)"
      ]
     },
     "execution_count": 30,
     "metadata": {},
     "output_type": "execute_result"
    }
   ],
   "source": [
    "trip['sub_type'].unique()"
   ]
  },
  {
   "cell_type": "code",
   "execution_count": 32,
   "metadata": {},
   "outputs": [
    {
     "data": {
      "text/plain": [
       "array([\"'Male' \", \"'Male'\", \"'Female'\", nan], dtype=object)"
      ]
     },
     "execution_count": 32,
     "metadata": {},
     "output_type": "execute_result"
    }
   ],
   "source": [
    "trip['gender'].unique()"
   ]
  },
  {
   "cell_type": "code",
   "execution_count": null,
   "metadata": {},
   "outputs": [],
   "source": [
    "def correct_gender_male(row):\n",
    "    if row['gender'] == \"'Male' \":\n",
    "        row['gender'] = \"'Male'\"\n",
    "    return row\n",
    "trip = trip.apply(correct_gender_male, axis=1)"
   ]
  },
  {
   "cell_type": "code",
   "execution_count": 34,
   "metadata": {},
   "outputs": [
    {
     "data": {
      "text/plain": [
       "array([\"'Male'\", \"'Female'\", nan], dtype=object)"
      ]
     },
     "execution_count": 34,
     "metadata": {},
     "output_type": "execute_result"
    }
   ],
   "source": [
    "trip['gender'].unique()"
   ]
  },
  {
   "cell_type": "code",
   "execution_count": 31,
   "metadata": {},
   "outputs": [
    {
     "data": {
      "text/plain": [
       "array([1976., 1966., 1943., 1981., 1983., 1951., 1971., 1994., 1956.,\n",
       "       1959.,   nan, 1982., 1944., 1960., 1975., 1987., 1985., 1978.,\n",
       "       1980., 1955., 1972., 1949., 1968., 1967., 1958., 1973., 1963.,\n",
       "       1962., 1969., 1986., 1965., 1979., 1974., 1947., 1957., 1988.,\n",
       "       1970., 1953., 1977., 1984., 1989., 1961., 1946., 1950., 1964.,\n",
       "       1948., 1954., 1952., 1945., 1940., 1991., 1942., 1990.,    0.,\n",
       "       1992., 1993., 1939., 1938., 1941., 1932., 1995., 1934.])"
      ]
     },
     "execution_count": 31,
     "metadata": {},
     "output_type": "execute_result"
    }
   ],
   "source": [
    "trip['birth_date'].unique()"
   ]
  },
  {
   "cell_type": "code",
   "execution_count": 36,
   "metadata": {},
   "outputs": [
    {
     "data": {
      "text/plain": [
       "array([nan, \"'01915'\", \"'02138'\", \"'02127'\", \"'02215'\", \"'02134'\",\n",
       "       \"'02109'\", \"'02139'\", \"'02141'\", \"'02143'\", \"'02115'\", \"'02155'\",\n",
       "       \"'02120'\", \"'02360'\", \"'02128'\", \"'01810'\", \"'02116'\", \"'02118'\",\n",
       "       \"'02445'\", \"'02110'\", \"'02142'\", \"'01746'\", \"'01721'\", \"'02113'\",\n",
       "       \"'02038'\", \"'02129'\", \"'02144'\", \"'02108'\", \"'02056'\", \"'03833'\",\n",
       "       \"'02446'\", \"'02461'\", \"'02125'\", \"'02199'\", \"'02121'\", \"'01852'\",\n",
       "       \"'02145'\", \"'02021'\", \"'02180'\", \"'02043'\", \"'02301'\", \"'01824'\",\n",
       "       \"'02114'\", \"'02482'\", \"'02136'\", \"'02478'\", \"'53207'\", \"'01604'\",\n",
       "       \"'02119'\", \"'02319'\", \"'02045'\", \"'02122'\", \"'01760'\", \"'02163'\",\n",
       "       \"'02464'\", \"'02140'\", \"'01970'\", \"'01945'\", \"'02302'\", \"'01904'\",\n",
       "       \"'02351'\", \"'01886'\", \"'02135'\", \"'02210'\", \"'02111'\", \"'02540'\",\n",
       "       \"'10036'\", \"'01940'\", \"'01966'\", \"'02131'\", \"'02130'\", \"'02339'\",\n",
       "       \"'01908'\", \"'02171'\", \"'01965'\", \"'01702'\", \"'02025'\", \"'02459'\",\n",
       "       \"'01776'\", \"'02148'\", \"'02341'\", \"'02451'\", \"'01453'\", \"'02189'\",\n",
       "       \"'01867'\", \"'01923'\", \"'02906'\", \"'02458'\", \"'02465'\", \"'02467'\",\n",
       "       \"'01178'\", \"'02474'\", \"'01826'\", \"'02739'\", \"'21039'\", \"'02493'\",\n",
       "       \"'05602'\", \"'02152'\", \"'01720'\", \"'02090'\", \"'20010'\", \"'02492'\",\n",
       "       \"'02453'\", \"'02176'\", \"'01902'\", \"'01944'\", \"'02494'\", \"'02214'\",\n",
       "       \"'02067'\", \"'02382'\", \"'02563'\", \"'02066'\", \"'01984'\", \"'02420'\",\n",
       "       \"'02472'\", \"'01545'\", \"'01432'\", \"'20740'\", \"'01742'\", \"'01730'\",\n",
       "       \"'02186'\", \"'01532'\", \"'02205'\", \"'02124'\", \"'02703'\", \"'02468'\",\n",
       "       \"'01460'\", \"'02023'\", \"'11201'\", \"'02638'\", \"'02050'\", \"'76701'\",\n",
       "       \"'01982'\", \"'02072'\", \"'02421'\", \"'02368'\", \"'91642'\", \"'01960'\",\n",
       "       \"'02885'\", \"'02806'\", \"'01451'\", \"'01930'\", \"'01832'\", \"'02452'\",\n",
       "       \"'02332'\", \"'02061'\", \"'01772'\", \"'02318'\", \"'02026'\", \"'01890'\",\n",
       "       \"'03060'\", \"'01887'\", \"'02048'\", \"'01938'\", \"'01880'\", \"'01907'\",\n",
       "       \"'02169'\", \"'20138'\", \"'04107'\", \"'01905'\", \"'03079'\", \"'94115'\",\n",
       "       \"'02132'\", \"'02150'\", \"'02030'\", \"'92144'\", \"'01239'\", \"'01106'\",\n",
       "       \"'01242'\", \"'03290'\", \"'02908'\", \"'02183'\", \"'02359'\", \"'03051'\",\n",
       "       \"'01501'\", \"'02356'\", \"'01863'\", \"'01949'\", \"'02814'\", \"'01719'\",\n",
       "       \"'10019'\", \"'01845'\", \"'01876'\", \"'01450'\", \"'02338'\", \"'02536'\",\n",
       "       \"'03811'\", \"'03755'\", \"'06320'\", \"'01741'\", \"'01843'\", \"'01929'\",\n",
       "       \"'02123'\", \"'01951'\", \"'01773'\", \"'02771'\"], dtype=object)"
      ]
     },
     "execution_count": 36,
     "metadata": {},
     "output_type": "execute_result"
    }
   ],
   "source": [
    "trip['extra_col1'].unique()"
   ]
  },
  {
   "cell_type": "code",
   "execution_count": 37,
   "metadata": {},
   "outputs": [
    {
     "data": {
      "text/html": [
       "<div>\n",
       "<style scoped>\n",
       "    .dataframe tbody tr th:only-of-type {\n",
       "        vertical-align: middle;\n",
       "    }\n",
       "\n",
       "    .dataframe tbody tr th {\n",
       "        vertical-align: top;\n",
       "    }\n",
       "\n",
       "    .dataframe thead th {\n",
       "        text-align: right;\n",
       "    }\n",
       "</style>\n",
       "<table border=\"1\" class=\"dataframe\">\n",
       "  <thead>\n",
       "    <tr style=\"text-align: right;\">\n",
       "      <th></th>\n",
       "      <th>id</th>\n",
       "      <th>duration</th>\n",
       "      <th>start_date</th>\n",
       "      <th>start_station</th>\n",
       "      <th>end_date</th>\n",
       "      <th>end_station</th>\n",
       "      <th>bike_number</th>\n",
       "      <th>sub_type</th>\n",
       "      <th>zip_code</th>\n",
       "      <th>birth_date</th>\n",
       "      <th>gender</th>\n",
       "      <th>extra_col1</th>\n",
       "      <th>extra_col2</th>\n",
       "      <th>extra_col3</th>\n",
       "    </tr>\n",
       "  </thead>\n",
       "  <tbody>\n",
       "    <tr>\n",
       "      <th>1358930</th>\n",
       "      <td>1367553</td>\n",
       "      <td>480</td>\n",
       "      <td>2013-10-01 08:03:00</td>\n",
       "      <td>46.0</td>\n",
       "      <td>2013-10-01 08:11:00</td>\n",
       "      <td>26.0</td>\n",
       "      <td>'T01027'</td>\n",
       "      <td>'Casual'</td>\n",
       "      <td>NaN</td>\n",
       "      <td>NaN</td>\n",
       "      <td>NaN</td>\n",
       "      <td>'01915'</td>\n",
       "      <td>NaN</td>\n",
       "      <td>NaN</td>\n",
       "    </tr>\n",
       "    <tr>\n",
       "      <th>1361792</th>\n",
       "      <td>1370420</td>\n",
       "      <td>1680</td>\n",
       "      <td>2013-10-01 17:12:00</td>\n",
       "      <td>116.0</td>\n",
       "      <td>2013-10-01 17:40:00</td>\n",
       "      <td>58.0</td>\n",
       "      <td>'A07930'</td>\n",
       "      <td>'Casual'</td>\n",
       "      <td>NaN</td>\n",
       "      <td>NaN</td>\n",
       "      <td>NaN</td>\n",
       "      <td>'01915'</td>\n",
       "      <td>NaN</td>\n",
       "      <td>NaN</td>\n",
       "    </tr>\n",
       "    <tr>\n",
       "      <th>1375460</th>\n",
       "      <td>1384098</td>\n",
       "      <td>840</td>\n",
       "      <td>2013-10-04 08:12:00</td>\n",
       "      <td>101.0</td>\n",
       "      <td>2013-10-04 08:26:00</td>\n",
       "      <td>128.0</td>\n",
       "      <td>'B00613'</td>\n",
       "      <td>'Casual'</td>\n",
       "      <td>NaN</td>\n",
       "      <td>NaN</td>\n",
       "      <td>NaN</td>\n",
       "      <td>'01915'</td>\n",
       "      <td>NaN</td>\n",
       "      <td>NaN</td>\n",
       "    </tr>\n",
       "    <tr>\n",
       "      <th>1378027</th>\n",
       "      <td>1386668</td>\n",
       "      <td>1020</td>\n",
       "      <td>2013-10-04 16:59:00</td>\n",
       "      <td>66.0</td>\n",
       "      <td>2013-10-04 17:16:00</td>\n",
       "      <td>55.0</td>\n",
       "      <td>'B00112'</td>\n",
       "      <td>'Casual'</td>\n",
       "      <td>NaN</td>\n",
       "      <td>NaN</td>\n",
       "      <td>NaN</td>\n",
       "      <td>'01915'</td>\n",
       "      <td>NaN</td>\n",
       "      <td>NaN</td>\n",
       "    </tr>\n",
       "    <tr>\n",
       "      <th>1391313</th>\n",
       "      <td>1399978</td>\n",
       "      <td>1140</td>\n",
       "      <td>2013-10-08 08:40:00</td>\n",
       "      <td>122.0</td>\n",
       "      <td>2013-10-08 08:59:00</td>\n",
       "      <td>46.0</td>\n",
       "      <td>'B01461'</td>\n",
       "      <td>'Casual'</td>\n",
       "      <td>NaN</td>\n",
       "      <td>NaN</td>\n",
       "      <td>NaN</td>\n",
       "      <td>'01915'</td>\n",
       "      <td>NaN</td>\n",
       "      <td>NaN</td>\n",
       "    </tr>\n",
       "    <tr>\n",
       "      <th>1391727</th>\n",
       "      <td>1400393</td>\n",
       "      <td>360</td>\n",
       "      <td>2013-10-08 09:37:00</td>\n",
       "      <td>74.0</td>\n",
       "      <td>2013-10-08 09:43:00</td>\n",
       "      <td>74.0</td>\n",
       "      <td>'B00435'</td>\n",
       "      <td>'Casual'</td>\n",
       "      <td>NaN</td>\n",
       "      <td>NaN</td>\n",
       "      <td>NaN</td>\n",
       "      <td>'01915'</td>\n",
       "      <td>NaN</td>\n",
       "      <td>NaN</td>\n",
       "    </tr>\n",
       "    <tr>\n",
       "      <th>1396408</th>\n",
       "      <td>1405080</td>\n",
       "      <td>480</td>\n",
       "      <td>2013-10-09 08:31:00</td>\n",
       "      <td>54.0</td>\n",
       "      <td>2013-10-09 08:39:00</td>\n",
       "      <td>36.0</td>\n",
       "      <td>'B00579'</td>\n",
       "      <td>'Casual'</td>\n",
       "      <td>NaN</td>\n",
       "      <td>NaN</td>\n",
       "      <td>NaN</td>\n",
       "      <td>'01915'</td>\n",
       "      <td>NaN</td>\n",
       "      <td>NaN</td>\n",
       "    </tr>\n",
       "    <tr>\n",
       "      <th>1401812</th>\n",
       "      <td>1410494</td>\n",
       "      <td>180</td>\n",
       "      <td>2013-10-10 09:25:00</td>\n",
       "      <td>52.0</td>\n",
       "      <td>2013-10-10 09:28:00</td>\n",
       "      <td>36.0</td>\n",
       "      <td>'B00241'</td>\n",
       "      <td>'Casual'</td>\n",
       "      <td>NaN</td>\n",
       "      <td>NaN</td>\n",
       "      <td>NaN</td>\n",
       "      <td>'01915'</td>\n",
       "      <td>NaN</td>\n",
       "      <td>NaN</td>\n",
       "    </tr>\n",
       "    <tr>\n",
       "      <th>1468366</th>\n",
       "      <td>1477218</td>\n",
       "      <td>600</td>\n",
       "      <td>2013-10-24 14:00:00</td>\n",
       "      <td>48.0</td>\n",
       "      <td>2013-10-24 14:10:00</td>\n",
       "      <td>50.0</td>\n",
       "      <td>'T01006'</td>\n",
       "      <td>'Casual'</td>\n",
       "      <td>NaN</td>\n",
       "      <td>NaN</td>\n",
       "      <td>NaN</td>\n",
       "      <td>'01915'</td>\n",
       "      <td>NaN</td>\n",
       "      <td>NaN</td>\n",
       "    </tr>\n",
       "    <tr>\n",
       "      <th>1469021</th>\n",
       "      <td>1477874</td>\n",
       "      <td>780</td>\n",
       "      <td>2013-10-24 16:42:00</td>\n",
       "      <td>114.0</td>\n",
       "      <td>2013-10-24 16:55:00</td>\n",
       "      <td>116.0</td>\n",
       "      <td>'B00669'</td>\n",
       "      <td>'Casual'</td>\n",
       "      <td>NaN</td>\n",
       "      <td>NaN</td>\n",
       "      <td>NaN</td>\n",
       "      <td>'01915'</td>\n",
       "      <td>NaN</td>\n",
       "      <td>NaN</td>\n",
       "    </tr>\n",
       "  </tbody>\n",
       "</table>\n",
       "</div>"
      ],
      "text/plain": [
       "              id  duration          start_date  start_station  \\\n",
       "1358930  1367553       480 2013-10-01 08:03:00           46.0   \n",
       "1361792  1370420      1680 2013-10-01 17:12:00          116.0   \n",
       "1375460  1384098       840 2013-10-04 08:12:00          101.0   \n",
       "1378027  1386668      1020 2013-10-04 16:59:00           66.0   \n",
       "1391313  1399978      1140 2013-10-08 08:40:00          122.0   \n",
       "1391727  1400393       360 2013-10-08 09:37:00           74.0   \n",
       "1396408  1405080       480 2013-10-09 08:31:00           54.0   \n",
       "1401812  1410494       180 2013-10-10 09:25:00           52.0   \n",
       "1468366  1477218       600 2013-10-24 14:00:00           48.0   \n",
       "1469021  1477874       780 2013-10-24 16:42:00          114.0   \n",
       "\n",
       "                   end_date  end_station bike_number  sub_type zip_code  \\\n",
       "1358930 2013-10-01 08:11:00         26.0    'T01027'  'Casual'      NaN   \n",
       "1361792 2013-10-01 17:40:00         58.0    'A07930'  'Casual'      NaN   \n",
       "1375460 2013-10-04 08:26:00        128.0    'B00613'  'Casual'      NaN   \n",
       "1378027 2013-10-04 17:16:00         55.0    'B00112'  'Casual'      NaN   \n",
       "1391313 2013-10-08 08:59:00         46.0    'B01461'  'Casual'      NaN   \n",
       "1391727 2013-10-08 09:43:00         74.0    'B00435'  'Casual'      NaN   \n",
       "1396408 2013-10-09 08:39:00         36.0    'B00579'  'Casual'      NaN   \n",
       "1401812 2013-10-10 09:28:00         36.0    'B00241'  'Casual'      NaN   \n",
       "1468366 2013-10-24 14:10:00         50.0    'T01006'  'Casual'      NaN   \n",
       "1469021 2013-10-24 16:55:00        116.0    'B00669'  'Casual'      NaN   \n",
       "\n",
       "         birth_date gender extra_col1  extra_col2  extra_col3  \n",
       "1358930         NaN    NaN    '01915'         NaN         NaN  \n",
       "1361792         NaN    NaN    '01915'         NaN         NaN  \n",
       "1375460         NaN    NaN    '01915'         NaN         NaN  \n",
       "1378027         NaN    NaN    '01915'         NaN         NaN  \n",
       "1391313         NaN    NaN    '01915'         NaN         NaN  \n",
       "1391727         NaN    NaN    '01915'         NaN         NaN  \n",
       "1396408         NaN    NaN    '01915'         NaN         NaN  \n",
       "1401812         NaN    NaN    '01915'         NaN         NaN  \n",
       "1468366         NaN    NaN    '01915'         NaN         NaN  \n",
       "1469021         NaN    NaN    '01915'         NaN         NaN  "
      ]
     },
     "execution_count": 37,
     "metadata": {},
     "output_type": "execute_result"
    }
   ],
   "source": [
    "trip[trip['extra_col1'] == \"'01915'\"]"
   ]
  },
  {
   "cell_type": "code",
   "execution_count": 38,
   "metadata": {},
   "outputs": [
    {
     "data": {
      "text/plain": [
       "array([\"'97217'\", \"'02215'\", \"'02108'\", \"'02116'\", \"'97214'\", \"'02021'\",\n",
       "       \"'02140'\", \"'01867'\", nan, \"'02446'\", \"'02128'\", \"'02115'\",\n",
       "       \"'02492'\", \"'02118'\", \"'02139'\", \"'02351'\", \"'02143'\", \"'02130'\",\n",
       "       \"'02474'\", \"'01776'\", \"'01880'\", \"'02131'\", \"'02144'\", \"'02151'\",\n",
       "       \"'02127'\", \"'02445'\", \"'02113'\", \"'01876'\", \"'02114'\", \"'01742'\",\n",
       "       \"'01945'\", \"'01720'\", \"'01890'\", \"'01719'\", \"'02135'\", \"'02138'\",\n",
       "       \"'01760'\", \"'02134'\", \"'01545'\", \"'02109'\", \"'01944'\", \"'02038'\",\n",
       "       \"'02360'\", \"'02025'\", \"'01740'\", \"'02186'\", \"'02163'\", \"'02359'\",\n",
       "       \"'02155'\", \"'02420'\", \"'02111'\", \"'01886'\", \"'02129'\", \"'02035'\",\n",
       "       \"'02176'\", \"'02458'\", \"'02124'\", \"'02061'\", \"'01915'\", \"'02030'\",\n",
       "       \"'01773'\", \"'02478'\", \"'02461'\", \"'02110'\", \"'01966'\", \"'02152'\",\n",
       "       \"'02889'\", \"'02141'\", \"'02482'\", \"'02465'\", \"'02136'\", \"'02191'\",\n",
       "       \"'02460'\", \"'02148'\", \"'60084'\", \"'02210'\", \"'02476'\", \"'11797'\",\n",
       "       \"'02205'\", \"'02043'\", \"'01982'\", \"'01907'\", \"'01604'\", \"'03301'\",\n",
       "       \"'01921'\", \"'02462'\", \"'01845'\", \"'02125'\", \"'02120'\", \"'02119'\",\n",
       "       \"'01721'\", \"'02145'\", \"'02745'\", \"'01532'\", \"'02149'\", \"'01887'\",\n",
       "       \"'02090'\", \"'02050'\", \"'01951'\", \"'01930'\", \"'01905'\", \"'01938'\",\n",
       "       \"'01970'\", \"'01821'\", \"'01902'\", \"'02066'\", \"'02860'\", \"'01923'\",\n",
       "       \"'01810'\", \"'02132'\", \"'01178'\", \"'02453'\", \"'02703'\", \"'02199'\",\n",
       "       \"'01748'\", \"'01985'\", \"'20009'\", \"'02301'\", \"'01770'\", \"'01826'\",\n",
       "       \"'01851'\", \"'01730'\", \"'02341'\", \"'10065'\", \"'02472'\", \"'20016'\",\n",
       "       \"'02169'\", \"'02121'\", \"'01583'\", \"'02464'\", \"'02744'\", \"'01778'\",\n",
       "       \"'02339'\", \"'02026'\", \"'02368'\", \"'02324'\", \"'02493'\", \"'03104'\",\n",
       "       \"'02332'\", \"'02184'\", \"'02112'\", \"'02048'\", \"'02481'\", \"'01746'\",\n",
       "       \"'02238'\", \"'02459'\", \"'01504'\", \"'01519'\", \"'03062'\", \"'01701'\",\n",
       "       \"'03833'\", \"'02052'\", \"'02067'\", \"'01984'\", \"'01590'\", \"'02062'\",\n",
       "       \"'02920'\", \"'01749'\", \"'01757'\", \"'01460'\", \"'01450'\", \"'02356'\",\n",
       "       \"'01775'\", \"'01375'\", \"'02467'\", \"'02743'\", \"'02190'\", \"'02072'\",\n",
       "       \"'01475'\", \"'02189'\", \"'02122'\", \"'02906'\", \"'02245'\", \"'01950'\",\n",
       "       \"'02886'\", \"'02468'\", \"'01864'\", \"'02126'\", \"'12866'\", \"'01463'\",\n",
       "       \"'02494'\", \"'02045'\", \"'01503'\", \"'02903'\", \"'01741'\", \"'01906'\",\n",
       "       \"'02447'\", \"'02370'\", \"'77018'\", \"'02019'\", \"'01462'\", \"'02532'\",\n",
       "       \"'03037'\", \"'02171'\", \"'01949'\", \"'02142'\", \"'01453'\", \"'01824'\",\n",
       "       \"'01850'\", \"'01929'\", \"'02203'\", \"'02712'\", \"'03854'\", \"'05401'\",\n",
       "       \"'01913'\", \"'02331'\", \"'02421'\", \"'01568'\", \"'03106'\", \"'55372'\",\n",
       "       \"'01536'\", \"'03885'\", \"'02180'\", \"'02338'\", \"'01385'\", \"'01772'\",\n",
       "       \"'04043'\", \"'00216'\", \"'02117'\", \"'06418'\", \"'03103'\", \"'02081'\",\n",
       "       \"'03053'\", \"'01501'\", \"'02056'\", \"'08035'\", \"'36301'\", \"'02814'\",\n",
       "       \"'02046'\", \"'01969'\", \"'03823'\", \"'02908'\", \"'01904'\", \"'06250'\",\n",
       "       \"'01960'\", \"'01520'\", \"'02649'\", \"'11238'\", \"'84010'\", \"'01605'\",\n",
       "       \"'01524'\", \"'02451'\", \"'02188'\", \"'03801'\", \"'33014'\", \"'19119'\",\n",
       "       \"'02150'\", \"'02104'\", \"'02466'\", \"'23451'\", \"'04042'\", \"'02123'\",\n",
       "       \"'10016'\", \"'01908'\", \"'01451'\", \"'03820'\", \"'02330'\", \"'20003'\",\n",
       "       \"'02367'\", \"'03063'\", \"'02540'\", \"'01431'\", \"'03431'\", \"'03079'\",\n",
       "       \"'02170'\", \"'01833'\", \"'03038'\", \"'02909'\", \"'03064'\", \"'03049'\",\n",
       "       \"'02747'\", \"'01844'\", \"'02771'\", \"'02806'\", \"'03051'\", \"'01801'\",\n",
       "       \"'2114'\", \"'01702'\", \"'03861'\", \"'01830'\", \"'02246'\", \"'01852'\",\n",
       "       \"'02382'\", \"'23235'\", \"'02364'\", \"'2134'\", \"'02809'\", \"'01832'\",\n",
       "       \"'01225'\", \"'02269'\", \"'94025'\", \"'02185'\", \"'02905'\", \"'01754'\",\n",
       "       \"'02675'\", \"'03903'\", \"'02053'\", \"'02852'\", \"'10025'\", \"'02133'\",\n",
       "       \"'01901'\", \"'02780'\", \"'02343'\", \"'03811'\", \"'01940'\", \"'01862'\",\n",
       "       \"'02748'\", \"'02020'\", \"'01523'\", \"'03840'\", \"'02667'\", \"'01803'\",\n",
       "       \"'02762'\", \"'03858'\", \"'02060'\", \"'20910'\", \"'03755'\", \"'01534'\",\n",
       "       \"'06360'\", \"'01843'\", \"'01606'\", \"'02346'\", \"'24460'\", \"'01542'\",\n",
       "       \"'95219'\", \"'00210'\", \"'02721'\", \"'01952'\", \"'02322'\", \"'01827'\",\n",
       "       \"'02379'\", \"'10001'\", \"'02646'\", \"'02537'\", \"'01474'\", \"'02904'\",\n",
       "       \"'04032'\", \"'06488'\", \"'80203'\", \"'06033'\", \"'01432'\", \"'02093'\",\n",
       "       \"'01581'\", \"'30329'\", \"'03060'\", \"'02760'\", \"'02327'\", \"'03290'\",\n",
       "       \"'03222'\", \"'02536'\", \"'20912'\", \"'01239'\", \"'05068'\", \"'03766'\",\n",
       "       \"'01983'\", \"'06357'\", \"'02769'\", \"'2138'\", \"'03087'\", \"'01002'\",\n",
       "       \"'98107'\", \"'01139'\", \"'12401'\", \"'2215'\", \"'01106'\", \"'03045'\",\n",
       "       \"'06119'\", \"'94127'\", \"'03865'\", \"'01238'\", \"'70065'\", \"'01027'\",\n",
       "       \"'01835'\", \"'03052'\", \"'02214'\", \"'03886'\", \"'21045'\", \"'05408'\",\n",
       "       \"'97405'\", \"'27609'\", \"'10003'\", \"'11217'\", \"'04358'\", \"'53207'\",\n",
       "       \"'90027'\", \"'02452'\", \"'02010'\", \"'02391'\", \"'02720'\", \"'01219'\",\n",
       "       \"'60559'\", \"'08534'\", \"'01863'\", \"'02709'\", \"'94708'\", \"'03229'\",\n",
       "       \"'06330'\", \"'01854'\", \"'02146'\", \"'01464'\", \"'01420'\", \"'01232'\",\n",
       "       \"'03101'\", \"'02196'\", \"'33480'\", \"'06355'\", \"'02635'\", \"'03906'\",\n",
       "       \"'02861'\", \"'78215'\", \"'02901'\", \"'02314'\", \"'10036'\", \"'02319'\",\n",
       "       \"'04086'\", \"'01430'\", \"'01235'\", \"'01747'\", \"'05482'\", \"'03110'\",\n",
       "       \"'03102'\", \"'03910'\", \"'04090'\", \"'03874'\", \"'12208'\", \"'06708'\",\n",
       "       \"'10514'\", \"'03909'\", \"'02302'\", \"'44333'\", \"'33126'\", \"'01965'\",\n",
       "       \"'01244'\", \"'91642'\", \"'02563'\", \"'03215'\", \"'11102'\", \"'34103'\",\n",
       "       \"'92144'\", \"'55447'\", \"'01745'\", \"'06320'\", \"'02666'\", \"'02779'\",\n",
       "       \"'03043'\", \"'03842'\", \"'33166'\", \"'33316'\", \"'01096'\", \"'01752'\",\n",
       "       \"'02766'\", \"'02633'\", \"'20010'\", \"'10019'\", \"'04011'\", \"'06279'\",\n",
       "       \"'11000'\", \"'80231'\", \"'20842'\", \"'07645'\", \"'23456'\", \"'23103'\",\n",
       "       \"'03871'\", \"'20143'\", \"'05602'\", \"'02638'\", \"'03753'\", \"'02454'\",\n",
       "       \"'11206'\", \"'06010'\", \"'03905'\", \"'20815'\", \"'94609'\", \"'92782'\",\n",
       "       \"'04107'\", \"'94115'\", \"'01865'\", \"'01603'\", \"'02183'\", \"'03071'\",\n",
       "       \"'20740'\", \"'01756'\", \"'21039'\", \"'11545'\", \"'20138'\", \"'02739'\",\n",
       "       \"'04112'\", \"'02664'\", \"'22201'\", \"'33283'\", \"'48302'\", \"'91320'\",\n",
       "       \"'20139'\", \"'01250'\", \"'20895'\", \"'10475'\", \"'20148'\", \"'91711'\",\n",
       "       \"'01243'\", \"'02864'\", \"'02216'\", \"'96023'\", \"'32953'\", \"'07417'\",\n",
       "       \"'01263'\", \"'11201'\", \"'02318'\", \"'02910'\", \"'02885'\", \"'01242'\",\n",
       "       \"'02821'\", \"'49506'\", \"'04105'\", \"'10128'\", \"'18901'\", \"'02023'\",\n",
       "       \"'76701'\", \"'60622'\", \"'05001'\", \"'02655'\", \"'01054'\", \"'06511'\",\n",
       "       \"'06066'\", \"'02177'\", \"'06412'\", \"'44040'\", \"'03054'\", \"'20116'\",\n",
       "       \"'43017'\", \"'y02143'\"], dtype=object)"
      ]
     },
     "execution_count": 38,
     "metadata": {},
     "output_type": "execute_result"
    }
   ],
   "source": [
    "trip['zip_code'].unique()"
   ]
  },
  {
   "cell_type": "code",
   "execution_count": 39,
   "metadata": {},
   "outputs": [
    {
     "data": {
      "text/plain": [
       "468031"
      ]
     },
     "execution_count": 39,
     "metadata": {},
     "output_type": "execute_result"
    }
   ],
   "source": [
    "trip['zip_code'].isnull().sum()"
   ]
  },
  {
   "cell_type": "code",
   "execution_count": 40,
   "metadata": {},
   "outputs": [],
   "source": [
    "def correct_zip_code_column(row):\n",
    "    if pd.isna(row['zip_code']) and not pd.isna(row['extra_col1']):\n",
    "        row['zip_code'] = row['extra_col1']\n",
    "    return row\n",
    "trip = trip.apply(correct_zip_code_column, axis=1)"
   ]
  },
  {
   "cell_type": "code",
   "execution_count": 41,
   "metadata": {},
   "outputs": [
    {
     "data": {
      "text/plain": [
       "464988"
      ]
     },
     "execution_count": 41,
     "metadata": {},
     "output_type": "execute_result"
    }
   ],
   "source": [
    "trip['zip_code'].isnull().sum()"
   ]
  },
  {
   "cell_type": "code",
   "execution_count": 42,
   "metadata": {},
   "outputs": [
    {
     "data": {
      "text/plain": [
       "3043"
      ]
     },
     "execution_count": 42,
     "metadata": {},
     "output_type": "execute_result"
    }
   ],
   "source": [
    "trip['extra_col1'].notna().sum()"
   ]
  },
  {
   "cell_type": "code",
   "execution_count": 43,
   "metadata": {},
   "outputs": [
    {
     "data": {
      "text/html": [
       "<div>\n",
       "<style scoped>\n",
       "    .dataframe tbody tr th:only-of-type {\n",
       "        vertical-align: middle;\n",
       "    }\n",
       "\n",
       "    .dataframe tbody tr th {\n",
       "        vertical-align: top;\n",
       "    }\n",
       "\n",
       "    .dataframe thead th {\n",
       "        text-align: right;\n",
       "    }\n",
       "</style>\n",
       "<table border=\"1\" class=\"dataframe\">\n",
       "  <thead>\n",
       "    <tr style=\"text-align: right;\">\n",
       "      <th></th>\n",
       "      <th>id</th>\n",
       "      <th>duration</th>\n",
       "      <th>start_date</th>\n",
       "      <th>start_station</th>\n",
       "      <th>end_date</th>\n",
       "      <th>end_station</th>\n",
       "      <th>bike_number</th>\n",
       "      <th>sub_type</th>\n",
       "      <th>zip_code</th>\n",
       "      <th>birth_date</th>\n",
       "      <th>gender</th>\n",
       "      <th>extra_col1</th>\n",
       "      <th>extra_col2</th>\n",
       "      <th>extra_col3</th>\n",
       "    </tr>\n",
       "  </thead>\n",
       "  <tbody>\n",
       "    <tr>\n",
       "      <th>1358930</th>\n",
       "      <td>1367553</td>\n",
       "      <td>480</td>\n",
       "      <td>2013-10-01 08:03:00</td>\n",
       "      <td>46.0</td>\n",
       "      <td>2013-10-01 08:11:00</td>\n",
       "      <td>26.0</td>\n",
       "      <td>'T01027'</td>\n",
       "      <td>'Casual'</td>\n",
       "      <td>'01915'</td>\n",
       "      <td>NaN</td>\n",
       "      <td>NaN</td>\n",
       "      <td>'01915'</td>\n",
       "      <td>NaN</td>\n",
       "      <td>NaN</td>\n",
       "    </tr>\n",
       "    <tr>\n",
       "      <th>1361792</th>\n",
       "      <td>1370420</td>\n",
       "      <td>1680</td>\n",
       "      <td>2013-10-01 17:12:00</td>\n",
       "      <td>116.0</td>\n",
       "      <td>2013-10-01 17:40:00</td>\n",
       "      <td>58.0</td>\n",
       "      <td>'A07930'</td>\n",
       "      <td>'Casual'</td>\n",
       "      <td>'01915'</td>\n",
       "      <td>NaN</td>\n",
       "      <td>NaN</td>\n",
       "      <td>'01915'</td>\n",
       "      <td>NaN</td>\n",
       "      <td>NaN</td>\n",
       "    </tr>\n",
       "    <tr>\n",
       "      <th>1375460</th>\n",
       "      <td>1384098</td>\n",
       "      <td>840</td>\n",
       "      <td>2013-10-04 08:12:00</td>\n",
       "      <td>101.0</td>\n",
       "      <td>2013-10-04 08:26:00</td>\n",
       "      <td>128.0</td>\n",
       "      <td>'B00613'</td>\n",
       "      <td>'Casual'</td>\n",
       "      <td>'01915'</td>\n",
       "      <td>NaN</td>\n",
       "      <td>NaN</td>\n",
       "      <td>'01915'</td>\n",
       "      <td>NaN</td>\n",
       "      <td>NaN</td>\n",
       "    </tr>\n",
       "    <tr>\n",
       "      <th>1378027</th>\n",
       "      <td>1386668</td>\n",
       "      <td>1020</td>\n",
       "      <td>2013-10-04 16:59:00</td>\n",
       "      <td>66.0</td>\n",
       "      <td>2013-10-04 17:16:00</td>\n",
       "      <td>55.0</td>\n",
       "      <td>'B00112'</td>\n",
       "      <td>'Casual'</td>\n",
       "      <td>'01915'</td>\n",
       "      <td>NaN</td>\n",
       "      <td>NaN</td>\n",
       "      <td>'01915'</td>\n",
       "      <td>NaN</td>\n",
       "      <td>NaN</td>\n",
       "    </tr>\n",
       "    <tr>\n",
       "      <th>1391313</th>\n",
       "      <td>1399978</td>\n",
       "      <td>1140</td>\n",
       "      <td>2013-10-08 08:40:00</td>\n",
       "      <td>122.0</td>\n",
       "      <td>2013-10-08 08:59:00</td>\n",
       "      <td>46.0</td>\n",
       "      <td>'B01461'</td>\n",
       "      <td>'Casual'</td>\n",
       "      <td>'01915'</td>\n",
       "      <td>NaN</td>\n",
       "      <td>NaN</td>\n",
       "      <td>'01915'</td>\n",
       "      <td>NaN</td>\n",
       "      <td>NaN</td>\n",
       "    </tr>\n",
       "    <tr>\n",
       "      <th>1391727</th>\n",
       "      <td>1400393</td>\n",
       "      <td>360</td>\n",
       "      <td>2013-10-08 09:37:00</td>\n",
       "      <td>74.0</td>\n",
       "      <td>2013-10-08 09:43:00</td>\n",
       "      <td>74.0</td>\n",
       "      <td>'B00435'</td>\n",
       "      <td>'Casual'</td>\n",
       "      <td>'01915'</td>\n",
       "      <td>NaN</td>\n",
       "      <td>NaN</td>\n",
       "      <td>'01915'</td>\n",
       "      <td>NaN</td>\n",
       "      <td>NaN</td>\n",
       "    </tr>\n",
       "    <tr>\n",
       "      <th>1396408</th>\n",
       "      <td>1405080</td>\n",
       "      <td>480</td>\n",
       "      <td>2013-10-09 08:31:00</td>\n",
       "      <td>54.0</td>\n",
       "      <td>2013-10-09 08:39:00</td>\n",
       "      <td>36.0</td>\n",
       "      <td>'B00579'</td>\n",
       "      <td>'Casual'</td>\n",
       "      <td>'01915'</td>\n",
       "      <td>NaN</td>\n",
       "      <td>NaN</td>\n",
       "      <td>'01915'</td>\n",
       "      <td>NaN</td>\n",
       "      <td>NaN</td>\n",
       "    </tr>\n",
       "    <tr>\n",
       "      <th>1401812</th>\n",
       "      <td>1410494</td>\n",
       "      <td>180</td>\n",
       "      <td>2013-10-10 09:25:00</td>\n",
       "      <td>52.0</td>\n",
       "      <td>2013-10-10 09:28:00</td>\n",
       "      <td>36.0</td>\n",
       "      <td>'B00241'</td>\n",
       "      <td>'Casual'</td>\n",
       "      <td>'01915'</td>\n",
       "      <td>NaN</td>\n",
       "      <td>NaN</td>\n",
       "      <td>'01915'</td>\n",
       "      <td>NaN</td>\n",
       "      <td>NaN</td>\n",
       "    </tr>\n",
       "    <tr>\n",
       "      <th>1468366</th>\n",
       "      <td>1477218</td>\n",
       "      <td>600</td>\n",
       "      <td>2013-10-24 14:00:00</td>\n",
       "      <td>48.0</td>\n",
       "      <td>2013-10-24 14:10:00</td>\n",
       "      <td>50.0</td>\n",
       "      <td>'T01006'</td>\n",
       "      <td>'Casual'</td>\n",
       "      <td>'01915'</td>\n",
       "      <td>NaN</td>\n",
       "      <td>NaN</td>\n",
       "      <td>'01915'</td>\n",
       "      <td>NaN</td>\n",
       "      <td>NaN</td>\n",
       "    </tr>\n",
       "    <tr>\n",
       "      <th>1469021</th>\n",
       "      <td>1477874</td>\n",
       "      <td>780</td>\n",
       "      <td>2013-10-24 16:42:00</td>\n",
       "      <td>114.0</td>\n",
       "      <td>2013-10-24 16:55:00</td>\n",
       "      <td>116.0</td>\n",
       "      <td>'B00669'</td>\n",
       "      <td>'Casual'</td>\n",
       "      <td>'01915'</td>\n",
       "      <td>NaN</td>\n",
       "      <td>NaN</td>\n",
       "      <td>'01915'</td>\n",
       "      <td>NaN</td>\n",
       "      <td>NaN</td>\n",
       "    </tr>\n",
       "  </tbody>\n",
       "</table>\n",
       "</div>"
      ],
      "text/plain": [
       "              id  duration          start_date  start_station  \\\n",
       "1358930  1367553       480 2013-10-01 08:03:00           46.0   \n",
       "1361792  1370420      1680 2013-10-01 17:12:00          116.0   \n",
       "1375460  1384098       840 2013-10-04 08:12:00          101.0   \n",
       "1378027  1386668      1020 2013-10-04 16:59:00           66.0   \n",
       "1391313  1399978      1140 2013-10-08 08:40:00          122.0   \n",
       "1391727  1400393       360 2013-10-08 09:37:00           74.0   \n",
       "1396408  1405080       480 2013-10-09 08:31:00           54.0   \n",
       "1401812  1410494       180 2013-10-10 09:25:00           52.0   \n",
       "1468366  1477218       600 2013-10-24 14:00:00           48.0   \n",
       "1469021  1477874       780 2013-10-24 16:42:00          114.0   \n",
       "\n",
       "                   end_date  end_station bike_number  sub_type zip_code  \\\n",
       "1358930 2013-10-01 08:11:00         26.0    'T01027'  'Casual'  '01915'   \n",
       "1361792 2013-10-01 17:40:00         58.0    'A07930'  'Casual'  '01915'   \n",
       "1375460 2013-10-04 08:26:00        128.0    'B00613'  'Casual'  '01915'   \n",
       "1378027 2013-10-04 17:16:00         55.0    'B00112'  'Casual'  '01915'   \n",
       "1391313 2013-10-08 08:59:00         46.0    'B01461'  'Casual'  '01915'   \n",
       "1391727 2013-10-08 09:43:00         74.0    'B00435'  'Casual'  '01915'   \n",
       "1396408 2013-10-09 08:39:00         36.0    'B00579'  'Casual'  '01915'   \n",
       "1401812 2013-10-10 09:28:00         36.0    'B00241'  'Casual'  '01915'   \n",
       "1468366 2013-10-24 14:10:00         50.0    'T01006'  'Casual'  '01915'   \n",
       "1469021 2013-10-24 16:55:00        116.0    'B00669'  'Casual'  '01915'   \n",
       "\n",
       "         birth_date gender extra_col1  extra_col2  extra_col3  \n",
       "1358930         NaN    NaN    '01915'         NaN         NaN  \n",
       "1361792         NaN    NaN    '01915'         NaN         NaN  \n",
       "1375460         NaN    NaN    '01915'         NaN         NaN  \n",
       "1378027         NaN    NaN    '01915'         NaN         NaN  \n",
       "1391313         NaN    NaN    '01915'         NaN         NaN  \n",
       "1391727         NaN    NaN    '01915'         NaN         NaN  \n",
       "1396408         NaN    NaN    '01915'         NaN         NaN  \n",
       "1401812         NaN    NaN    '01915'         NaN         NaN  \n",
       "1468366         NaN    NaN    '01915'         NaN         NaN  \n",
       "1469021         NaN    NaN    '01915'         NaN         NaN  "
      ]
     },
     "execution_count": 43,
     "metadata": {},
     "output_type": "execute_result"
    }
   ],
   "source": [
    "trip[trip['extra_col1'] == \"'01915'\"]"
   ]
  },
  {
   "cell_type": "code",
   "execution_count": 44,
   "metadata": {},
   "outputs": [
    {
     "data": {
      "text/plain": [
       "array([nan])"
      ]
     },
     "execution_count": 44,
     "metadata": {},
     "output_type": "execute_result"
    }
   ],
   "source": [
    "trip['extra_col2'].unique()"
   ]
  },
  {
   "cell_type": "code",
   "execution_count": 45,
   "metadata": {},
   "outputs": [],
   "source": [
    "del trip['extra_col1']"
   ]
  },
  {
   "cell_type": "code",
   "execution_count": 46,
   "metadata": {},
   "outputs": [],
   "source": [
    "del trip['extra_col2']"
   ]
  },
  {
   "cell_type": "code",
   "execution_count": 47,
   "metadata": {},
   "outputs": [
    {
     "data": {
      "text/plain": [
       "Index(['id', 'duration', 'start_date', 'start_station', 'end_date',\n",
       "       'end_station', 'bike_number', 'sub_type', 'zip_code', 'birth_date',\n",
       "       'gender', 'extra_col3'],\n",
       "      dtype='object')"
      ]
     },
     "execution_count": 47,
     "metadata": {},
     "output_type": "execute_result"
    }
   ],
   "source": [
    "trip.columns"
   ]
  },
  {
   "cell_type": "code",
   "execution_count": 48,
   "metadata": {},
   "outputs": [
    {
     "data": {
      "text/plain": [
       "array([nan])"
      ]
     },
     "execution_count": 48,
     "metadata": {},
     "output_type": "execute_result"
    }
   ],
   "source": [
    "trip['extra_col3'].unique()"
   ]
  },
  {
   "cell_type": "code",
   "execution_count": 49,
   "metadata": {},
   "outputs": [],
   "source": [
    "del trip['extra_col3']"
   ]
  },
  {
   "cell_type": "code",
   "execution_count": 50,
   "metadata": {},
   "outputs": [
    {
     "data": {
      "text/plain": [
       "Index(['id', 'duration', 'start_date', 'start_station', 'end_date',\n",
       "       'end_station', 'bike_number', 'sub_type', 'zip_code', 'birth_date',\n",
       "       'gender'],\n",
       "      dtype='object')"
      ]
     },
     "execution_count": 50,
     "metadata": {},
     "output_type": "execute_result"
    }
   ],
   "source": [
    "trip.columns"
   ]
  },
  {
   "cell_type": "code",
   "execution_count": 23,
   "metadata": {},
   "outputs": [],
   "source": [
    "bike = trip[['bike_number', 'sub_type']].drop_duplicates()"
   ]
  },
  {
   "cell_type": "code",
   "execution_count": 25,
   "metadata": {},
   "outputs": [
    {
     "data": {
      "text/html": [
       "<div>\n",
       "<style scoped>\n",
       "    .dataframe tbody tr th:only-of-type {\n",
       "        vertical-align: middle;\n",
       "    }\n",
       "\n",
       "    .dataframe tbody tr th {\n",
       "        vertical-align: top;\n",
       "    }\n",
       "\n",
       "    .dataframe thead th {\n",
       "        text-align: right;\n",
       "    }\n",
       "</style>\n",
       "<table border=\"1\" class=\"dataframe\">\n",
       "  <thead>\n",
       "    <tr style=\"text-align: right;\">\n",
       "      <th></th>\n",
       "      <th>bike_number</th>\n",
       "      <th>sub_type</th>\n",
       "    </tr>\n",
       "  </thead>\n",
       "  <tbody>\n",
       "    <tr>\n",
       "      <th>0</th>\n",
       "      <td>'B00468'</td>\n",
       "      <td>'Registered'</td>\n",
       "    </tr>\n",
       "    <tr>\n",
       "      <th>1</th>\n",
       "      <td>'B00554'</td>\n",
       "      <td>'Registered'</td>\n",
       "    </tr>\n",
       "    <tr>\n",
       "      <th>2</th>\n",
       "      <td>'B00456'</td>\n",
       "      <td>'Registered'</td>\n",
       "    </tr>\n",
       "    <tr>\n",
       "      <th>9</th>\n",
       "      <td>'B00550'</td>\n",
       "      <td>'Registered'</td>\n",
       "    </tr>\n",
       "    <tr>\n",
       "      <th>10</th>\n",
       "      <td>'B00580'</td>\n",
       "      <td>'Registered'</td>\n",
       "    </tr>\n",
       "    <tr>\n",
       "      <th>...</th>\n",
       "      <td>...</td>\n",
       "      <td>...</td>\n",
       "    </tr>\n",
       "    <tr>\n",
       "      <th>1397332</th>\n",
       "      <td>'B00630'</td>\n",
       "      <td>'Registered'</td>\n",
       "    </tr>\n",
       "    <tr>\n",
       "      <th>1471568</th>\n",
       "      <td>'B00624'</td>\n",
       "      <td>'Registered'</td>\n",
       "    </tr>\n",
       "    <tr>\n",
       "      <th>1476963</th>\n",
       "      <td>'B00624'</td>\n",
       "      <td>'Casual'</td>\n",
       "    </tr>\n",
       "    <tr>\n",
       "      <th>1496718</th>\n",
       "      <td>'B01491'</td>\n",
       "      <td>'Registered'</td>\n",
       "    </tr>\n",
       "    <tr>\n",
       "      <th>1499993</th>\n",
       "      <td>'B01491'</td>\n",
       "      <td>'Casual'</td>\n",
       "    </tr>\n",
       "  </tbody>\n",
       "</table>\n",
       "<p>2330 rows × 2 columns</p>\n",
       "</div>"
      ],
      "text/plain": [
       "        bike_number      sub_type\n",
       "0          'B00468'  'Registered'\n",
       "1          'B00554'  'Registered'\n",
       "2          'B00456'  'Registered'\n",
       "9          'B00550'  'Registered'\n",
       "10         'B00580'  'Registered'\n",
       "...             ...           ...\n",
       "1397332    'B00630'  'Registered'\n",
       "1471568    'B00624'  'Registered'\n",
       "1476963    'B00624'      'Casual'\n",
       "1496718    'B01491'  'Registered'\n",
       "1499993    'B01491'      'Casual'\n",
       "\n",
       "[2330 rows x 2 columns]"
      ]
     },
     "execution_count": 25,
     "metadata": {},
     "output_type": "execute_result"
    }
   ],
   "source": [
    "bike"
   ]
  },
  {
   "cell_type": "code",
   "execution_count": 52,
   "metadata": {},
   "outputs": [],
   "source": [
    "bike['id'] = range(1, len(bike) + 1)"
   ]
  },
  {
   "cell_type": "code",
   "execution_count": 53,
   "metadata": {},
   "outputs": [],
   "source": [
    "people = trip[['zip_code', 'gender', 'birth_date']].drop_duplicates()"
   ]
  },
  {
   "cell_type": "code",
   "execution_count": 54,
   "metadata": {},
   "outputs": [],
   "source": [
    "people['id'] = range(1, len(people) + 1)"
   ]
  },
  {
   "cell_type": "code",
   "execution_count": 55,
   "metadata": {},
   "outputs": [
    {
     "data": {
      "text/html": [
       "<div>\n",
       "<style scoped>\n",
       "    .dataframe tbody tr th:only-of-type {\n",
       "        vertical-align: middle;\n",
       "    }\n",
       "\n",
       "    .dataframe tbody tr th {\n",
       "        vertical-align: top;\n",
       "    }\n",
       "\n",
       "    .dataframe thead th {\n",
       "        text-align: right;\n",
       "    }\n",
       "</style>\n",
       "<table border=\"1\" class=\"dataframe\">\n",
       "  <thead>\n",
       "    <tr style=\"text-align: right;\">\n",
       "      <th></th>\n",
       "      <th>zip_code</th>\n",
       "      <th>gender</th>\n",
       "      <th>birth_date</th>\n",
       "      <th>id</th>\n",
       "    </tr>\n",
       "  </thead>\n",
       "  <tbody>\n",
       "    <tr>\n",
       "      <th>0</th>\n",
       "      <td>'97217'</td>\n",
       "      <td>'Male'</td>\n",
       "      <td>1976.0</td>\n",
       "      <td>1</td>\n",
       "    </tr>\n",
       "    <tr>\n",
       "      <th>1</th>\n",
       "      <td>'02215'</td>\n",
       "      <td>'Male'</td>\n",
       "      <td>1966.0</td>\n",
       "      <td>2</td>\n",
       "    </tr>\n",
       "    <tr>\n",
       "      <th>2</th>\n",
       "      <td>'02108'</td>\n",
       "      <td>'Male'</td>\n",
       "      <td>1943.0</td>\n",
       "      <td>3</td>\n",
       "    </tr>\n",
       "    <tr>\n",
       "      <th>3</th>\n",
       "      <td>'02116'</td>\n",
       "      <td>'Female'</td>\n",
       "      <td>1981.0</td>\n",
       "      <td>4</td>\n",
       "    </tr>\n",
       "    <tr>\n",
       "      <th>4</th>\n",
       "      <td>'97214'</td>\n",
       "      <td>'Female'</td>\n",
       "      <td>1983.0</td>\n",
       "      <td>5</td>\n",
       "    </tr>\n",
       "    <tr>\n",
       "      <th>...</th>\n",
       "      <td>...</td>\n",
       "      <td>...</td>\n",
       "      <td>...</td>\n",
       "      <td>...</td>\n",
       "    </tr>\n",
       "    <tr>\n",
       "      <th>1559304</th>\n",
       "      <td>'44040'</td>\n",
       "      <td>'Male'</td>\n",
       "      <td>0.0</td>\n",
       "      <td>4232</td>\n",
       "    </tr>\n",
       "    <tr>\n",
       "      <th>1560095</th>\n",
       "      <td>'03054'</td>\n",
       "      <td>'Male'</td>\n",
       "      <td>0.0</td>\n",
       "      <td>4233</td>\n",
       "    </tr>\n",
       "    <tr>\n",
       "      <th>1561814</th>\n",
       "      <td>'20116'</td>\n",
       "      <td>'Male'</td>\n",
       "      <td>0.0</td>\n",
       "      <td>4234</td>\n",
       "    </tr>\n",
       "    <tr>\n",
       "      <th>1563970</th>\n",
       "      <td>'43017'</td>\n",
       "      <td>'Male'</td>\n",
       "      <td>0.0</td>\n",
       "      <td>4235</td>\n",
       "    </tr>\n",
       "    <tr>\n",
       "      <th>1570000</th>\n",
       "      <td>'y02143'</td>\n",
       "      <td>'Female'</td>\n",
       "      <td>0.0</td>\n",
       "      <td>4236</td>\n",
       "    </tr>\n",
       "  </tbody>\n",
       "</table>\n",
       "<p>4236 rows × 4 columns</p>\n",
       "</div>"
      ],
      "text/plain": [
       "         zip_code    gender  birth_date    id\n",
       "0         '97217'    'Male'      1976.0     1\n",
       "1         '02215'    'Male'      1966.0     2\n",
       "2         '02108'    'Male'      1943.0     3\n",
       "3         '02116'  'Female'      1981.0     4\n",
       "4         '97214'  'Female'      1983.0     5\n",
       "...           ...       ...         ...   ...\n",
       "1559304   '44040'    'Male'         0.0  4232\n",
       "1560095   '03054'    'Male'         0.0  4233\n",
       "1561814   '20116'    'Male'         0.0  4234\n",
       "1563970   '43017'    'Male'         0.0  4235\n",
       "1570000  'y02143'  'Female'         0.0  4236\n",
       "\n",
       "[4236 rows x 4 columns]"
      ]
     },
     "execution_count": 55,
     "metadata": {},
     "output_type": "execute_result"
    }
   ],
   "source": [
    "people"
   ]
  },
  {
   "cell_type": "code",
   "execution_count": 2,
   "metadata": {},
   "outputs": [],
   "source": [
    "trip = pd.read_csv('trip.csv')"
   ]
  },
  {
   "cell_type": "code",
   "execution_count": 3,
   "metadata": {},
   "outputs": [
    {
     "data": {
      "text/html": [
       "<div>\n",
       "<style scoped>\n",
       "    .dataframe tbody tr th:only-of-type {\n",
       "        vertical-align: middle;\n",
       "    }\n",
       "\n",
       "    .dataframe tbody tr th {\n",
       "        vertical-align: top;\n",
       "    }\n",
       "\n",
       "    .dataframe thead th {\n",
       "        text-align: right;\n",
       "    }\n",
       "</style>\n",
       "<table border=\"1\" class=\"dataframe\">\n",
       "  <thead>\n",
       "    <tr style=\"text-align: right;\">\n",
       "      <th></th>\n",
       "      <th>id</th>\n",
       "      <th>duration</th>\n",
       "      <th>start_date</th>\n",
       "      <th>start_station</th>\n",
       "      <th>end_date</th>\n",
       "      <th>end_station</th>\n",
       "      <th>bike_number</th>\n",
       "      <th>sub_type</th>\n",
       "      <th>zip_code</th>\n",
       "      <th>birth_date</th>\n",
       "      <th>gender</th>\n",
       "      <th>age</th>\n",
       "    </tr>\n",
       "  </thead>\n",
       "  <tbody>\n",
       "    <tr>\n",
       "      <th>0</th>\n",
       "      <td>1</td>\n",
       "      <td>9</td>\n",
       "      <td>2011-07-28 10:12:00</td>\n",
       "      <td>99.0</td>\n",
       "      <td>2011-07-28 10:12:00</td>\n",
       "      <td>99.0</td>\n",
       "      <td>'B00468'</td>\n",
       "      <td>'Registered'</td>\n",
       "      <td>'97217'</td>\n",
       "      <td>1976.0</td>\n",
       "      <td>'Male'</td>\n",
       "      <td>35.0</td>\n",
       "    </tr>\n",
       "    <tr>\n",
       "      <th>1</th>\n",
       "      <td>2</td>\n",
       "      <td>220</td>\n",
       "      <td>2011-07-28 10:21:00</td>\n",
       "      <td>99.0</td>\n",
       "      <td>2011-07-28 10:25:00</td>\n",
       "      <td>99.0</td>\n",
       "      <td>'B00554'</td>\n",
       "      <td>'Registered'</td>\n",
       "      <td>'02215'</td>\n",
       "      <td>1966.0</td>\n",
       "      <td>'Male'</td>\n",
       "      <td>45.0</td>\n",
       "    </tr>\n",
       "    <tr>\n",
       "      <th>2</th>\n",
       "      <td>3</td>\n",
       "      <td>100</td>\n",
       "      <td>2011-07-28 10:33:00</td>\n",
       "      <td>99.0</td>\n",
       "      <td>2011-07-28 10:34:00</td>\n",
       "      <td>99.0</td>\n",
       "      <td>'B00456'</td>\n",
       "      <td>'Registered'</td>\n",
       "      <td>'02108'</td>\n",
       "      <td>1943.0</td>\n",
       "      <td>'Male'</td>\n",
       "      <td>68.0</td>\n",
       "    </tr>\n",
       "    <tr>\n",
       "      <th>3</th>\n",
       "      <td>4</td>\n",
       "      <td>64</td>\n",
       "      <td>2011-07-28 10:35:00</td>\n",
       "      <td>99.0</td>\n",
       "      <td>2011-07-28 10:36:00</td>\n",
       "      <td>99.0</td>\n",
       "      <td>'B00554'</td>\n",
       "      <td>'Registered'</td>\n",
       "      <td>'02116'</td>\n",
       "      <td>1981.0</td>\n",
       "      <td>'Female'</td>\n",
       "      <td>30.0</td>\n",
       "    </tr>\n",
       "    <tr>\n",
       "      <th>4</th>\n",
       "      <td>5</td>\n",
       "      <td>12</td>\n",
       "      <td>2011-07-28 10:37:00</td>\n",
       "      <td>99.0</td>\n",
       "      <td>2011-07-28 10:37:00</td>\n",
       "      <td>99.0</td>\n",
       "      <td>'B00554'</td>\n",
       "      <td>'Registered'</td>\n",
       "      <td>'97214'</td>\n",
       "      <td>1983.0</td>\n",
       "      <td>'Female'</td>\n",
       "      <td>28.0</td>\n",
       "    </tr>\n",
       "  </tbody>\n",
       "</table>\n",
       "</div>"
      ],
      "text/plain": [
       "   id  duration           start_date  start_station             end_date  \\\n",
       "0   1         9  2011-07-28 10:12:00           99.0  2011-07-28 10:12:00   \n",
       "1   2       220  2011-07-28 10:21:00           99.0  2011-07-28 10:25:00   \n",
       "2   3       100  2011-07-28 10:33:00           99.0  2011-07-28 10:34:00   \n",
       "3   4        64  2011-07-28 10:35:00           99.0  2011-07-28 10:36:00   \n",
       "4   5        12  2011-07-28 10:37:00           99.0  2011-07-28 10:37:00   \n",
       "\n",
       "   end_station bike_number      sub_type zip_code  birth_date    gender   age  \n",
       "0         99.0    'B00468'  'Registered'  '97217'      1976.0    'Male'  35.0  \n",
       "1         99.0    'B00554'  'Registered'  '02215'      1966.0    'Male'  45.0  \n",
       "2         99.0    'B00456'  'Registered'  '02108'      1943.0    'Male'  68.0  \n",
       "3         99.0    'B00554'  'Registered'  '02116'      1981.0  'Female'  30.0  \n",
       "4         99.0    'B00554'  'Registered'  '97214'      1983.0  'Female'  28.0  "
      ]
     },
     "execution_count": 3,
     "metadata": {},
     "output_type": "execute_result"
    }
   ],
   "source": [
    "trip.head()"
   ]
  }
 ],
 "metadata": {
  "kernelspec": {
   "display_name": "base",
   "language": "python",
   "name": "python3"
  },
  "language_info": {
   "codemirror_mode": {
    "name": "ipython",
    "version": 3
   },
   "file_extension": ".py",
   "mimetype": "text/x-python",
   "name": "python",
   "nbconvert_exporter": "python",
   "pygments_lexer": "ipython3",
   "version": "3.11.7"
  }
 },
 "nbformat": 4,
 "nbformat_minor": 2
}
